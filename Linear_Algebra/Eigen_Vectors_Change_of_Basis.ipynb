{
 "cells": [
  {
   "cell_type": "code",
   "execution_count": 10,
   "metadata": {
    "collapsed": true
   },
   "outputs": [],
   "source": [
    "import pandas as pd \n",
    "import numpy as np"
   ]
  },
  {
   "cell_type": "markdown",
   "metadata": {},
   "source": [
    "Lets try to see a simple matrix multiplication in the x-y coordinate first and then try to do the multiplication. Typically this matrix multiplication is expensive because of the number of multiplications and additions. So, moving them into their axis of rotation makes the transformation matrix diagonal and mutiplication becomes a simple squaring of the diagonal terms."
   ]
  },
  {
   "cell_type": "code",
   "execution_count": 11,
   "metadata": {},
   "outputs": [],
   "source": [
    "simple_matrix = np.array([[0,1],[1,1]])"
   ]
  },
  {
   "cell_type": "markdown",
   "metadata": {},
   "source": [
    "Lets do a transformation on this matrix for 5 times."
   ]
  },
  {
   "cell_type": "code",
   "execution_count": 12,
   "metadata": {},
   "outputs": [
    {
     "name": "stdout",
     "output_type": "stream",
     "text": [
      "[[ 5  8]\n",
      " [ 8 13]]\n"
     ]
    }
   ],
   "source": [
    "new_matrix = simple_matrix\n",
    "for i in range(5):\n",
    "    new_matrix = np.matmul(simple_matrix,new_matrix)\n",
    "print(new_matrix)"
   ]
  },
  {
   "cell_type": "markdown",
   "metadata": {},
   "source": [
    "The total operations in this case were 2 multiplications and 1 addition per value. This makes it 12 operations per 1 mutiplication and a total ofo 60 in so far"
   ]
  },
  {
   "cell_type": "markdown",
   "metadata": {},
   "source": [
    "Now lets try to convert this transformation first into eigen space which will make the matrix a diagonal matrix and see if that would make things better.\n",
    "\n",
    "Lets first try to find the eigen vectors for this transformation and their corresponding eigen values"
   ]
  },
  {
   "cell_type": "code",
   "execution_count": 13,
   "metadata": {},
   "outputs": [],
   "source": [
    "(eigen_values, eigen_vectors)=np.linalg.eig(simple_matrix)"
   ]
  },
  {
   "cell_type": "markdown",
   "metadata": {},
   "source": [
    "We now have the eigen vectors but we also need the Inverse of the Eigen vector to move the transformation into the axis of eigen vectors"
   ]
  },
  {
   "cell_type": "code",
   "execution_count": 14,
   "metadata": {
    "collapsed": true
   },
   "outputs": [],
   "source": [
    "inv_eigen_vectors = np.linalg.inv(eigen_vectors)"
   ]
  },
  {
   "cell_type": "markdown",
   "metadata": {},
   "source": [
    "Now lets translate the transformation into the new space"
   ]
  },
  {
   "cell_type": "code",
   "execution_count": 15,
   "metadata": {},
   "outputs": [
    {
     "name": "stdout",
     "output_type": "stream",
     "text": [
      "[[-0.618  0.   ]\n",
      " [ 0.     1.618]]\n"
     ]
    }
   ],
   "source": [
    "new_trans = np.matmul(inv_eigen_vectors,np.matmul(simple_matrix, eigen_vectors))\n",
    "print(new_trans.round(3))"
   ]
  },
  {
   "cell_type": "markdown",
   "metadata": {},
   "source": [
    "As we can see the above matrix is diagonal. The values in the diagonal are actually eigen values. Lets take a look."
   ]
  },
  {
   "cell_type": "code",
   "execution_count": 16,
   "metadata": {},
   "outputs": [
    {
     "name": "stdout",
     "output_type": "stream",
     "text": [
      "[-0.61803399  1.61803399]\n"
     ]
    }
   ],
   "source": [
    "print(eigen_values)"
   ]
  },
  {
   "cell_type": "markdown",
   "metadata": {},
   "source": [
    "Now lets make the transformation of matrix multiplication 5 times. Its simply raising the value to the power of 6 Applying the operation 5 times on matrix 1. So its same as matrix ^6"
   ]
  },
  {
   "cell_type": "code",
   "execution_count": 17,
   "metadata": {},
   "outputs": [
    {
     "name": "stdout",
     "output_type": "stream",
     "text": [
      "[[ 0.05572809  0.        ]\n",
      " [ 0.         17.94427191]]\n"
     ]
    }
   ],
   "source": [
    "transformed_matrix_in_eigen_space = np.array([[eigen_values[0]**6,0],[0,eigen_values[1]**6]])\n",
    "print(transformed_matrix_in_eigen_space)"
   ]
  },
  {
   "cell_type": "markdown",
   "metadata": {},
   "source": [
    "Now lets move bring this back to xy coordinate system."
   ]
  },
  {
   "cell_type": "code",
   "execution_count": 18,
   "metadata": {},
   "outputs": [
    {
     "name": "stdout",
     "output_type": "stream",
     "text": [
      "[[ 5.  8.]\n",
      " [ 8. 13.]]\n"
     ]
    }
   ],
   "source": [
    "mat_in_xy_coordinate = np.matmul(eigen_vectors,np.matmul(transformed_matrix_in_eigen_space,inv_eigen_vectors))\n",
    "print(mat_in_xy_coordinate)"
   ]
  },
  {
   "cell_type": "markdown",
   "metadata": {},
   "source": [
    "The total calculations in this case would be the total multiplications and additions to solve for eigen vectors and values. In this example it would be \n",
    "12 operations to find the equation for eigen values.\n",
    "6 operations to find the roots.\n",
    "6 operations to find the equations for each eigen vectors \n",
    "average of 3 operations per root.\n",
    "Total comes up to 12 + 6 + 12 + 6 = 36"
   ]
  }
 ],
 "metadata": {
  "kernelspec": {
   "display_name": "Python 3",
   "language": "python",
   "name": "python3"
  },
  "language_info": {
   "codemirror_mode": {
    "name": "ipython",
    "version": 3
   },
   "file_extension": ".py",
   "mimetype": "text/x-python",
   "name": "python",
   "nbconvert_exporter": "python",
   "pygments_lexer": "ipython3",
   "version": "3.6.2"
  }
 },
 "nbformat": 4,
 "nbformat_minor": 2
}
